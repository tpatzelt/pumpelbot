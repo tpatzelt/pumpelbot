{
 "cells": [
  {
   "cell_type": "code",
   "execution_count": 78,
   "metadata": {
    "collapsed": true
   },
   "outputs": [],
   "source": [
    "from bs4 import BeautifulSoup\n",
    "import requests\n",
    "from dataclasses import dataclass\n"
   ]
  },
  {
   "cell_type": "code",
   "execution_count": 85,
   "outputs": [],
   "source": [
    "@dataclass\n",
    "class Flat:\n",
    "    id: str\n",
    "    info: str\n",
    "    url: str\n",
    "\n",
    "    def __eq__(self, other):\n",
    "        return self.id == other.id\n",
    "\n",
    "def parse_div_to_flat(div):\n",
    "    id = get_flat_id(div)\n",
    "    info = get_flat_info(div)\n",
    "    url = get_flat_url(div)\n",
    "    return Flat(id=id, info=info, url=url)\n",
    "\n",
    "def get_flat_url(div):\n",
    "    tag = div.find(\"a\", {\"class\": \"org-but\"})\n",
    "    return \"www.inberlinwohnen.de\" + tag.get(\"href\")\n",
    "\n",
    "def get_flat_info(div):\n",
    "    tag = div.find(\"div\", {\"class\": \"list_col span_wflist_data\"})\n",
    "    return tag.text.strip().replace(\"\\n\\n\", \"\\n\")\n",
    "\n",
    "def get_flat_id(div):\n",
    "    tag = div.find(\"div\", {\"class\": \"tb-merkdetails\"})\n",
    "    return int(tag.get(\"id\")[3:])\n",
    "\n",
    "def get_flats(num=10):\n",
    "    url = \"https://inberlinwohnen.de/wohnungsfinder/?JrY36147-LZ\"\n",
    "    response = requests.get(url=url)\n",
    "    soup = BeautifulSoup(response.content, \"html.parser\")\n",
    "    mydivs = soup.find_all(\"li\", {\"class\": \"tb-merkflat ipg\"})\n",
    "    return [parse_div_to_flat(div) for div in mydivs[:num]]\n"
   ],
   "metadata": {
    "collapsed": false
   }
  },
  {
   "cell_type": "code",
   "execution_count": 94,
   "outputs": [],
   "source": [
    "first_flats = get_flats()"
   ],
   "metadata": {
    "collapsed": false
   }
  },
  {
   "cell_type": "code",
   "execution_count": 97,
   "outputs": [],
   "source": [
    "sec_flat = get_flats()"
   ],
   "metadata": {
    "collapsed": false
   }
  },
  {
   "cell_type": "code",
   "execution_count": 98,
   "outputs": [
    {
     "data": {
      "text/plain": "True"
     },
     "execution_count": 98,
     "metadata": {},
     "output_type": "execute_result"
    }
   ],
   "source": [
    "first_flats[0].id in [flat.id for flat in sec_flat]\n"
   ],
   "metadata": {
    "collapsed": false
   }
  },
  {
   "cell_type": "code",
   "execution_count": null,
   "outputs": [],
   "source": [],
   "metadata": {
    "collapsed": false
   }
  }
 ],
 "metadata": {
  "kernelspec": {
   "display_name": "Python 3",
   "language": "python",
   "name": "python3"
  },
  "language_info": {
   "codemirror_mode": {
    "name": "ipython",
    "version": 2
   },
   "file_extension": ".py",
   "mimetype": "text/x-python",
   "name": "python",
   "nbconvert_exporter": "python",
   "pygments_lexer": "ipython2",
   "version": "2.7.6"
  }
 },
 "nbformat": 4,
 "nbformat_minor": 0
}
